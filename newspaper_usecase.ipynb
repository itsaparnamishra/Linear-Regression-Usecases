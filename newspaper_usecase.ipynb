{
 "cells": [
  {
   "cell_type": "markdown",
   "id": "industrial-edwards",
   "metadata": {},
   "source": [
    "# Business Case : The newspaper data\n",
    "\n",
    "# In order to investigate the feasibility of starting a Sunday edition for a large \n",
    "# metropolitan newspaper, information was obtained from a sample of 34 newspapers concerning \n",
    "# their daily and Sunday circulations (in thousands)"
   ]
  },
  {
   "cell_type": "code",
   "execution_count": 2,
   "id": "natural-bulgaria",
   "metadata": {},
   "outputs": [],
   "source": [
    "\n",
    "#import pandas \n",
    "import pandas as pd\n"
   ]
  },
  {
   "cell_type": "code",
   "execution_count": 3,
   "id": "partial-powder",
   "metadata": {},
   "outputs": [
    {
     "data": {
      "text/html": [
       "<div>\n",
       "<style scoped>\n",
       "    .dataframe tbody tr th:only-of-type {\n",
       "        vertical-align: middle;\n",
       "    }\n",
       "\n",
       "    .dataframe tbody tr th {\n",
       "        vertical-align: top;\n",
       "    }\n",
       "\n",
       "    .dataframe thead th {\n",
       "        text-align: right;\n",
       "    }\n",
       "</style>\n",
       "<table border=\"1\" class=\"dataframe\">\n",
       "  <thead>\n",
       "    <tr style=\"text-align: right;\">\n",
       "      <th></th>\n",
       "      <th>Newspaper</th>\n",
       "      <th>daily</th>\n",
       "      <th>sunday</th>\n",
       "    </tr>\n",
       "  </thead>\n",
       "  <tbody>\n",
       "    <tr>\n",
       "      <th>0</th>\n",
       "      <td>Baltimore Sun</td>\n",
       "      <td>391.952</td>\n",
       "      <td>488.506</td>\n",
       "    </tr>\n",
       "    <tr>\n",
       "      <th>1</th>\n",
       "      <td>Boston Globe</td>\n",
       "      <td>516.981</td>\n",
       "      <td>798.298</td>\n",
       "    </tr>\n",
       "    <tr>\n",
       "      <th>2</th>\n",
       "      <td>Boston Herald</td>\n",
       "      <td>355.628</td>\n",
       "      <td>235.084</td>\n",
       "    </tr>\n",
       "    <tr>\n",
       "      <th>3</th>\n",
       "      <td>Charlotte Observer</td>\n",
       "      <td>238.555</td>\n",
       "      <td>299.451</td>\n",
       "    </tr>\n",
       "    <tr>\n",
       "      <th>4</th>\n",
       "      <td>Chicago Sun Times</td>\n",
       "      <td>537.780</td>\n",
       "      <td>559.093</td>\n",
       "    </tr>\n",
       "  </tbody>\n",
       "</table>\n",
       "</div>"
      ],
      "text/plain": [
       "            Newspaper    daily   sunday\n",
       "0       Baltimore Sun  391.952  488.506\n",
       "1        Boston Globe  516.981  798.298\n",
       "2       Boston Herald  355.628  235.084\n",
       "3  Charlotte Observer  238.555  299.451\n",
       "4   Chicago Sun Times  537.780  559.093"
      ]
     },
     "execution_count": 3,
     "metadata": {},
     "output_type": "execute_result"
    }
   ],
   "source": [
    "#read the csv file using .read_csv() function \n",
    "data = pd.read_csv(\"NewspaperData.csv\")\n",
    "\n",
    "#check the snapshot of data using .head() function\n",
    "data.head()"
   ]
  },
  {
   "cell_type": "code",
   "execution_count": 4,
   "id": "afraid-domestic",
   "metadata": {},
   "outputs": [
    {
     "name": "stdout",
     "output_type": "stream",
     "text": [
      "<class 'pandas.core.frame.DataFrame'>\n",
      "RangeIndex: 34 entries, 0 to 33\n",
      "Data columns (total 3 columns):\n",
      " #   Column     Non-Null Count  Dtype  \n",
      "---  ------     --------------  -----  \n",
      " 0   Newspaper  34 non-null     object \n",
      " 1   daily      34 non-null     float64\n",
      " 2   sunday     34 non-null     float64\n",
      "dtypes: float64(2), object(1)\n",
      "memory usage: 944.0+ bytes\n"
     ]
    }
   ],
   "source": [
    "# check the information about the data and the datatypes of respective columns \n",
    "data.info()"
   ]
  },
  {
   "cell_type": "markdown",
   "id": "threaded-measurement",
   "metadata": {},
   "source": [
    "## correlation \n"
   ]
  },
  {
   "cell_type": "code",
   "execution_count": 5,
   "id": "stable-aircraft",
   "metadata": {},
   "outputs": [
    {
     "data": {
      "text/html": [
       "<div>\n",
       "<style scoped>\n",
       "    .dataframe tbody tr th:only-of-type {\n",
       "        vertical-align: middle;\n",
       "    }\n",
       "\n",
       "    .dataframe tbody tr th {\n",
       "        vertical-align: top;\n",
       "    }\n",
       "\n",
       "    .dataframe thead th {\n",
       "        text-align: right;\n",
       "    }\n",
       "</style>\n",
       "<table border=\"1\" class=\"dataframe\">\n",
       "  <thead>\n",
       "    <tr style=\"text-align: right;\">\n",
       "      <th></th>\n",
       "      <th>daily</th>\n",
       "      <th>sunday</th>\n",
       "    </tr>\n",
       "  </thead>\n",
       "  <tbody>\n",
       "    <tr>\n",
       "      <th>daily</th>\n",
       "      <td>1.000000</td>\n",
       "      <td>0.958154</td>\n",
       "    </tr>\n",
       "    <tr>\n",
       "      <th>sunday</th>\n",
       "      <td>0.958154</td>\n",
       "      <td>1.000000</td>\n",
       "    </tr>\n",
       "  </tbody>\n",
       "</table>\n",
       "</div>"
      ],
      "text/plain": [
       "           daily    sunday\n",
       "daily   1.000000  0.958154\n",
       "sunday  0.958154  1.000000"
      ]
     },
     "execution_count": 5,
     "metadata": {},
     "output_type": "execute_result"
    }
   ],
   "source": [
    "\n",
    "data.corr()      #correlation matrix"
   ]
  },
  {
   "cell_type": "code",
   "execution_count": 6,
   "id": "happy-concord",
   "metadata": {},
   "outputs": [
    {
     "name": "stderr",
     "output_type": "stream",
     "text": [
      "/home/aparna/.local/lib/python3.8/site-packages/seaborn/distributions.py:2557: FutureWarning: `distplot` is a deprecated function and will be removed in a future version. Please adapt your code to use either `displot` (a figure-level function with similar flexibility) or `histplot` (an axes-level function for histograms).\n",
      "  warnings.warn(msg, FutureWarning)\n"
     ]
    },
    {
     "data": {
      "text/plain": [
       "<AxesSubplot:xlabel='daily', ylabel='Density'>"
      ]
     },
     "execution_count": 6,
     "metadata": {},
     "output_type": "execute_result"
    },
    {
     "data": {
      "image/png": "[encoded data removed]",
      "text/plain": [
       "<Figure size 432x288 with 1 Axes>"
      ]
     },
     "metadata": {
      "needs_background": "light"
     },
     "output_type": "display_data"
    }
   ],
   "source": [
    "#plotting a distribution plot using seaborn library\n",
    "\n",
    "import seaborn as sn\n",
    "sn.distplot(data.daily)"
   ]
  },
  {
   "cell_type": "code",
   "execution_count": 7,
   "id": "romantic-fiber",
   "metadata": {},
   "outputs": [
    {
     "data": {
      "text/html": [
       "<div>\n",
       "<style scoped>\n",
       "    .dataframe tbody tr th:only-of-type {\n",
       "        vertical-align: middle;\n",
       "    }\n",
       "\n",
       "    .dataframe tbody tr th {\n",
       "        vertical-align: top;\n",
       "    }\n",
       "\n",
       "    .dataframe thead th {\n",
       "        text-align: right;\n",
       "    }\n",
       "</style>\n",
       "<table border=\"1\" class=\"dataframe\">\n",
       "  <thead>\n",
       "    <tr style=\"text-align: right;\">\n",
       "      <th></th>\n",
       "      <th>daily</th>\n",
       "      <th>sunday</th>\n",
       "    </tr>\n",
       "  </thead>\n",
       "  <tbody>\n",
       "    <tr>\n",
       "      <th>count</th>\n",
       "      <td>34.000000</td>\n",
       "      <td>34.000000</td>\n",
       "    </tr>\n",
       "    <tr>\n",
       "      <th>mean</th>\n",
       "      <td>430.962471</td>\n",
       "      <td>591.202412</td>\n",
       "    </tr>\n",
       "    <tr>\n",
       "      <th>std</th>\n",
       "      <td>269.211470</td>\n",
       "      <td>376.418051</td>\n",
       "    </tr>\n",
       "    <tr>\n",
       "      <th>min</th>\n",
       "      <td>133.239000</td>\n",
       "      <td>202.614000</td>\n",
       "    </tr>\n",
       "    <tr>\n",
       "      <th>25%</th>\n",
       "      <td>233.021500</td>\n",
       "      <td>327.769500</td>\n",
       "    </tr>\n",
       "    <tr>\n",
       "      <th>50%</th>\n",
       "      <td>355.235500</td>\n",
       "      <td>436.712500</td>\n",
       "    </tr>\n",
       "    <tr>\n",
       "      <th>75%</th>\n",
       "      <td>516.616500</td>\n",
       "      <td>699.735250</td>\n",
       "    </tr>\n",
       "    <tr>\n",
       "      <th>max</th>\n",
       "      <td>1209.225000</td>\n",
       "      <td>1762.015000</td>\n",
       "    </tr>\n",
       "  </tbody>\n",
       "</table>\n",
       "</div>"
      ],
      "text/plain": [
       "             daily       sunday\n",
       "count    34.000000    34.000000\n",
       "mean    430.962471   591.202412\n",
       "std     269.211470   376.418051\n",
       "min     133.239000   202.614000\n",
       "25%     233.021500   327.769500\n",
       "50%     355.235500   436.712500\n",
       "75%     516.616500   699.735250\n",
       "max    1209.225000  1762.015000"
      ]
     },
     "execution_count": 7,
     "metadata": {},
     "output_type": "execute_result"
    }
   ],
   "source": [
    "data.describe()   #checking the statistical summary of the data"
   ]
  },
  {
   "cell_type": "code",
   "execution_count": 8,
   "id": "biological-record",
   "metadata": {},
   "outputs": [
    {
     "name": "stderr",
     "output_type": "stream",
     "text": [
      "/home/aparna/.local/lib/python3.8/site-packages/seaborn/distributions.py:2557: FutureWarning: `distplot` is a deprecated function and will be removed in a future version. Please adapt your code to use either `displot` (a figure-level function with similar flexibility) or `histplot` (an axes-level function for histograms).\n",
      "  warnings.warn(msg, FutureWarning)\n"
     ]
    },
    {
     "data": {
      "text/plain": [
       "<AxesSubplot:xlabel='sunday', ylabel='Density'>"
      ]
     },
     "execution_count": 8,
     "metadata": {},
     "output_type": "execute_result"
    },
    {
     "data": {
      "image/png": "[encoded data removed]",
      "text/plain": [
       "<Figure size 432x288 with 1 Axes>"
      ]
     },
     "metadata": {
      "needs_background": "light"
     },
     "output_type": "display_data"
    }
   ],
   "source": [
    "sn.distplot(data.sunday)   "
   ]
  },
  {
   "cell_type": "markdown",
   "id": "pleased-facial",
   "metadata": {},
   "source": [
    "## Fitting a Linear Regression Model"
   ]
  },
  {
   "cell_type": "code",
   "execution_count": 9,
   "id": "composite-macro",
   "metadata": {},
   "outputs": [
    {
     "name": "stdout",
     "output_type": "stream",
     "text": [
      "Requirement already satisfied: statsmodels in /home/aparna/.local/lib/python3.8/site-packages (0.12.2)\n",
      "Requirement already satisfied: pandas>=0.21 in /home/aparna/.local/lib/python3.8/site-packages (from statsmodels) (1.2.3)\n",
      "Requirement already satisfied: patsy>=0.5 in /home/aparna/.local/lib/python3.8/site-packages (from statsmodels) (0.5.1)\n",
      "Requirement already satisfied: scipy>=1.1 in /home/aparna/.local/lib/python3.8/site-packages (from statsmodels) (1.6.1)\n",
      "Requirement already satisfied: numpy>=1.15 in /usr/lib/python3/dist-packages (from statsmodels) (1.17.4)\n",
      "Requirement already satisfied: pytz>=2017.3 in /usr/lib/python3/dist-packages (from pandas>=0.21->statsmodels) (2019.3)\n",
      "Requirement already satisfied: python-dateutil>=2.7.3 in /usr/lib/python3/dist-packages (from pandas>=0.21->statsmodels) (2.7.3)\n",
      "Requirement already satisfied: six in /usr/lib/python3/dist-packages (from patsy>=0.5->statsmodels) (1.14.0)\n"
     ]
    }
   ],
   "source": [
    "!pip install statsmodels"
   ]
  },
  {
   "cell_type": "code",
   "execution_count": 10,
   "id": "intimate-sponsorship",
   "metadata": {},
   "outputs": [
    {
     "data": {
      "text/html": [
       "<table class=\"simpletable\">\n",
       "<caption>OLS Regression Results</caption>\n",
       "<tr>\n",
       "  <th>Dep. Variable:</th>         <td>sunday</td>      <th>  R-squared:         </th> <td>   0.918</td>\n",
       "</tr>\n",
       "<tr>\n",
       "  <th>Model:</th>                   <td>OLS</td>       <th>  Adj. R-squared:    </th> <td>   0.915</td>\n",
       "</tr>\n",
       "<tr>\n",
       "  <th>Method:</th>             <td>Least Squares</td>  <th>  F-statistic:       </th> <td>   358.5</td>\n",
       "</tr>\n",
       "<tr>\n",
       "  <th>Date:</th>             <td>Sun, 27 Jun 2021</td> <th>  Prob (F-statistic):</th> <td>6.02e-19</td>\n",
       "</tr>\n",
       "<tr>\n",
       "  <th>Time:</th>                 <td>19:56:11</td>     <th>  Log-Likelihood:    </th> <td> -206.85</td>\n",
       "</tr>\n",
       "<tr>\n",
       "  <th>No. Observations:</th>      <td>    34</td>      <th>  AIC:               </th> <td>   417.7</td>\n",
       "</tr>\n",
       "<tr>\n",
       "  <th>Df Residuals:</th>          <td>    32</td>      <th>  BIC:               </th> <td>   420.8</td>\n",
       "</tr>\n",
       "<tr>\n",
       "  <th>Df Model:</th>              <td>     1</td>      <th>                     </th>     <td> </td>   \n",
       "</tr>\n",
       "<tr>\n",
       "  <th>Covariance Type:</th>      <td>nonrobust</td>    <th>                     </th>     <td> </td>   \n",
       "</tr>\n",
       "</table>\n",
       "<table class=\"simpletable\">\n",
       "<tr>\n",
       "      <td></td>         <th>coef</th>     <th>std err</th>      <th>t</th>      <th>P>|t|</th>  <th>[0.025</th>    <th>0.975]</th>  \n",
       "</tr>\n",
       "<tr>\n",
       "  <th>Intercept</th> <td>   13.8356</td> <td>   35.804</td> <td>    0.386</td> <td> 0.702</td> <td>  -59.095</td> <td>   86.766</td>\n",
       "</tr>\n",
       "<tr>\n",
       "  <th>daily</th>     <td>    1.3397</td> <td>    0.071</td> <td>   18.935</td> <td> 0.000</td> <td>    1.196</td> <td>    1.484</td>\n",
       "</tr>\n",
       "</table>\n",
       "<table class=\"simpletable\">\n",
       "<tr>\n",
       "  <th>Omnibus:</th>       <td> 3.297</td> <th>  Durbin-Watson:     </th> <td>   2.059</td>\n",
       "</tr>\n",
       "<tr>\n",
       "  <th>Prob(Omnibus):</th> <td> 0.192</td> <th>  Jarque-Bera (JB):  </th> <td>   1.990</td>\n",
       "</tr>\n",
       "<tr>\n",
       "  <th>Skew:</th>          <td> 0.396</td> <th>  Prob(JB):          </th> <td>   0.370</td>\n",
       "</tr>\n",
       "<tr>\n",
       "  <th>Kurtosis:</th>      <td> 3.882</td> <th>  Cond. No.          </th> <td>    965.</td>\n",
       "</tr>\n",
       "</table><br/><br/>Notes:<br/>[1] Standard Errors assume that the covariance matrix of the errors is correctly specified."
      ],
      "text/plain": [
       "<class 'statsmodels.iolib.summary.Summary'>\n",
       "\"\"\"\n",
       "                            OLS Regression Results                            \n",
       "==============================================================================\n",
       "Dep. Variable:                 sunday   R-squared:                       0.918\n",
       "Model:                            OLS   Adj. R-squared:                  0.915\n",
       "Method:                 Least Squares   F-statistic:                     358.5\n",
       "Date:                Sun, 27 Jun 2021   Prob (F-statistic):           6.02e-19\n",
       "Time:                        19:56:11   Log-Likelihood:                -206.85\n",
       "No. Observations:                  34   AIC:                             417.7\n",
       "Df Residuals:                      32   BIC:                             420.8\n",
       "Df Model:                           1                                         \n",
       "Covariance Type:            nonrobust                                         \n",
       "==============================================================================\n",
       "                 coef    std err          t      P>|t|      [0.025      0.975]\n",
       "------------------------------------------------------------------------------\n",
       "Intercept     13.8356     35.804      0.386      0.702     -59.095      86.766\n",
       "daily          1.3397      0.071     18.935      0.000       1.196       1.484\n",
       "==============================================================================\n",
       "Omnibus:                        3.297   Durbin-Watson:                   2.059\n",
       "Prob(Omnibus):                  0.192   Jarque-Bera (JB):                1.990\n",
       "Skew:                           0.396   Prob(JB):                        0.370\n",
       "Kurtosis:                       3.882   Cond. No.                         965.\n",
       "==============================================================================\n",
       "\n",
       "Notes:\n",
       "[1] Standard Errors assume that the covariance matrix of the errors is correctly specified.\n",
       "\"\"\""
      ]
     },
     "execution_count": 10,
     "metadata": {},
     "output_type": "execute_result"
    }
   ],
   "source": [
    "#using Ordinary least square method to create our model\n",
    "# for OLS method we need .ols() which is present in statsmodels.formula.api library \n",
    "\n",
    "\n",
    "\n",
    "import statsmodels.formula.api as smf    \n",
    "\n",
    "#create model\n",
    "model = smf.ols(\"sunday~daily\",data = data).fit()\n",
    "\n",
    "#check the summary of the model\n",
    "model.summary()"
   ]
  },
  {
   "cell_type": "code",
   "execution_count": 11,
   "id": "impaired-tuesday",
   "metadata": {},
   "outputs": [
    {
     "data": {
      "text/plain": [
       "<AxesSubplot:xlabel='daily', ylabel='sunday'>"
      ]
     },
     "execution_count": 11,
     "metadata": {},
     "output_type": "execute_result"
    },
    {
     "data": {
      "image/png": "[encoded data removed]",
      "text/plain": [
       "<Figure size 432x288 with 1 Axes>"
      ]
     },
     "metadata": {
      "needs_background": "light"
     },
     "output_type": "display_data"
    }
   ],
   "source": [
    "#plotting regression plot using .regplot()\n",
    "\n",
    "sn.regplot(x = 'daily',y = \"sunday\",data = data)"
   ]
  },
  {
   "cell_type": "code",
   "execution_count": 12,
   "id": "twelve-passage",
   "metadata": {},
   "outputs": [
    {
     "data": {
      "text/plain": [
       "Intercept    13.835630\n",
       "daily         1.339715\n",
       "dtype: float64"
      ]
     },
     "execution_count": 12,
     "metadata": {},
     "output_type": "execute_result"
    }
   ],
   "source": [
    "#coeffs \n",
    "model.params"
   ]
  },
  {
   "cell_type": "code",
   "execution_count": 13,
   "id": "guilty-nation",
   "metadata": {},
   "outputs": [
    {
     "name": "stdout",
     "output_type": "stream",
     "text": [
      "Intercept     0.386427\n",
      "daily        18.934840\n",
      "dtype: float64 \n",
      " Intercept    7.017382e-01\n",
      "daily        6.016802e-19\n",
      "dtype: float64\n"
     ]
    }
   ],
   "source": [
    "# t and p values \n",
    "print(model.tvalues ,\"\\n\",model.pvalues)"
   ]
  },
  {
   "cell_type": "code",
   "execution_count": 14,
   "id": "solar-scanning",
   "metadata": {},
   "outputs": [
    {
     "data": {
      "text/plain": [
       "(0.9180596895873295, 0.9154990548869336)"
      ]
     },
     "execution_count": 14,
     "metadata": {},
     "output_type": "execute_result"
    }
   ],
   "source": [
    "# R squared values  \n",
    "model.rsquared , model.rsquared_adj"
   ]
  },
  {
   "cell_type": "markdown",
   "id": "desirable-gallery",
   "metadata": {},
   "source": [
    "## Predict for new datapoint"
   ]
  },
  {
   "cell_type": "code",
   "execution_count": 15,
   "id": "coral-frequency",
   "metadata": {},
   "outputs": [],
   "source": [
    "newdata = pd.Series([300,450])\n"
   ]
  },
  {
   "cell_type": "code",
   "execution_count": 16,
   "id": "sought-guatemala",
   "metadata": {},
   "outputs": [],
   "source": [
    "data_pred = pd.DataFrame(newdata,columns = [\"daily\"])\n"
   ]
  },
  {
   "cell_type": "code",
   "execution_count": 17,
   "id": "missing-truth",
   "metadata": {},
   "outputs": [
    {
     "data": {
      "text/plain": [
       "0    415.750057\n",
       "1    616.707271\n",
       "dtype: float64"
      ]
     },
     "execution_count": 17,
     "metadata": {},
     "output_type": "execute_result"
    }
   ],
   "source": [
    "model.predict(data_pred)"
   ]
  },
  {
   "cell_type": "code",
   "execution_count": null,
   "id": "hungry-future",
   "metadata": {},
   "outputs": [],
   "source": []
  }
 ],
 "metadata": {
  "kernelspec": {
   "display_name": "Python 3",
   "language": "python",
   "name": "python3"
  },
  "language_info": {
   "codemirror_mode": {
    "name": "ipython",
    "version": 3
   },
   "file_extension": ".py",
   "mimetype": "text/x-python",
   "name": "python",
   "nbconvert_exporter": "python",
   "pygments_lexer": "ipython3",
   "version": "3.8.5"
  }
 },
 "nbformat": 4,
 "nbformat_minor": 5
}
